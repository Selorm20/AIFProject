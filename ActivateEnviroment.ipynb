{
 "cells": [
  {
   "cell_type": "markdown",
   "metadata": {},
   "source": [
    "It is for active enviroment before starting with activates main and other ipynb files"
   ]
  },
  {
   "cell_type": "code",
   "execution_count": null,
   "id": "88a184f0-9076-4515-a74b-8569b367487c",
   "metadata": {},
   "outputs": [],
   "source": [
    "!source minihack/bin/activate"
   ]
  }
 ],
 "metadata": {
  "kernelspec": {
   "display_name": "Python 3 (ipykernel)",
   "language": "python",
   "name": "python3"
  },
  "language_info": {
   "codemirror_mode": {
    "name": "ipython",
    "version": 3
   },
   "file_extension": ".py",
   "mimetype": "text/x-python",
   "name": "python",
   "nbconvert_exporter": "python",
   "pygments_lexer": "ipython3",
   "version": "3.8.3"
  }
 },
 "nbformat": 4,
 "nbformat_minor": 5
}
