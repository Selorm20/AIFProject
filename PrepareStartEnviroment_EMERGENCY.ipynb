{
 "cells": [
  {
   "cell_type": "markdown",
   "metadata": {},
   "source": [
    "This file is ONLY FOR EMERGENCY. If minihack folder is cancelled (for error), just run this cell to recreate minihack enviroment."
   ]
  },
  {
   "cell_type": "code",
   "execution_count": 1,
   "id": "88a184f0-9076-4515-a74b-8569b367487c",
   "metadata": {},
   "outputs": [
    {
     "name": "stdout",
     "output_type": "stream",
     "text": [
      "Requirement already satisfied: nle in /home/riccardo/anaconda3/lib/python3.8/site-packages (0.9.0)\n",
      "Requirement already satisfied: gym<=0.23,>=0.15 in /home/riccardo/anaconda3/lib/python3.8/site-packages (from nle) (0.23.0)\n",
      "Requirement already satisfied: pybind11>=2.2 in /home/riccardo/anaconda3/lib/python3.8/site-packages (from nle) (2.11.1)\n",
      "Requirement already satisfied: numpy>=1.16 in /home/riccardo/anaconda3/lib/python3.8/site-packages (from nle) (1.18.5)\n",
      "Requirement already satisfied: cloudpickle>=1.2.0 in /home/riccardo/anaconda3/lib/python3.8/site-packages (from gym<=0.23,>=0.15->nle) (1.5.0)\n",
      "Requirement already satisfied: importlib-metadata>=4.10.0; python_version < \"3.10\" in /home/riccardo/anaconda3/lib/python3.8/site-packages (from gym<=0.23,>=0.15->nle) (7.0.0)\n",
      "Requirement already satisfied: gym-notices>=0.0.4 in /home/riccardo/anaconda3/lib/python3.8/site-packages (from gym<=0.23,>=0.15->nle) (0.0.8)\n",
      "Requirement already satisfied: zipp>=0.5 in /home/riccardo/anaconda3/lib/python3.8/site-packages (from importlib-metadata>=4.10.0; python_version < \"3.10\"->gym<=0.23,>=0.15->nle) (3.1.0)\n",
      "Requirement already satisfied: minihack in /home/riccardo/anaconda3/lib/python3.8/site-packages (0.1.5)\n",
      "Requirement already satisfied: gym<=0.23,>=0.15 in /home/riccardo/anaconda3/lib/python3.8/site-packages (from minihack) (0.23.0)\n",
      "Requirement already satisfied: nle==0.9.0 in /home/riccardo/anaconda3/lib/python3.8/site-packages (from minihack) (0.9.0)\n",
      "Requirement already satisfied: numpy>=1.16 in /home/riccardo/anaconda3/lib/python3.8/site-packages (from minihack) (1.18.5)\n",
      "Requirement already satisfied: importlib-metadata>=4.10.0; python_version < \"3.10\" in /home/riccardo/anaconda3/lib/python3.8/site-packages (from gym<=0.23,>=0.15->minihack) (7.0.0)\n",
      "Requirement already satisfied: cloudpickle>=1.2.0 in /home/riccardo/anaconda3/lib/python3.8/site-packages (from gym<=0.23,>=0.15->minihack) (1.5.0)\n",
      "Requirement already satisfied: gym-notices>=0.0.4 in /home/riccardo/anaconda3/lib/python3.8/site-packages (from gym<=0.23,>=0.15->minihack) (0.0.8)\n",
      "Requirement already satisfied: pybind11>=2.2 in /home/riccardo/anaconda3/lib/python3.8/site-packages (from nle==0.9.0->minihack) (2.11.1)\n",
      "Requirement already satisfied: zipp>=0.5 in /home/riccardo/anaconda3/lib/python3.8/site-packages (from importlib-metadata>=4.10.0; python_version < \"3.10\"->gym<=0.23,>=0.15->minihack) (3.1.0)\n",
      "Requirement already satisfied: matplotlib in /home/riccardo/anaconda3/lib/python3.8/site-packages (3.2.2)\n",
      "Requirement already satisfied: notebook in /home/riccardo/anaconda3/lib/python3.8/site-packages (6.0.3)\n",
      "Requirement already satisfied: cycler>=0.10 in /home/riccardo/anaconda3/lib/python3.8/site-packages (from matplotlib) (0.10.0)\n",
      "Requirement already satisfied: kiwisolver>=1.0.1 in /home/riccardo/anaconda3/lib/python3.8/site-packages (from matplotlib) (1.2.0)\n",
      "Requirement already satisfied: numpy>=1.11 in /home/riccardo/anaconda3/lib/python3.8/site-packages (from matplotlib) (1.18.5)\n",
      "Requirement already satisfied: python-dateutil>=2.1 in /home/riccardo/anaconda3/lib/python3.8/site-packages (from matplotlib) (2.8.1)\n",
      "Requirement already satisfied: pyparsing!=2.0.4,!=2.1.2,!=2.1.6,>=2.0.1 in /home/riccardo/anaconda3/lib/python3.8/site-packages (from matplotlib) (2.4.7)\n",
      "Requirement already satisfied: jupyter-client>=5.3.4 in /home/riccardo/anaconda3/lib/python3.8/site-packages (from notebook) (6.1.6)\n",
      "Requirement already satisfied: jinja2 in /home/riccardo/anaconda3/lib/python3.8/site-packages (from notebook) (2.11.2)\n",
      "Requirement already satisfied: nbformat in /home/riccardo/anaconda3/lib/python3.8/site-packages (from notebook) (5.0.7)\n",
      "Requirement already satisfied: prometheus-client in /home/riccardo/anaconda3/lib/python3.8/site-packages (from notebook) (0.8.0)\n",
      "Requirement already satisfied: pyzmq>=17 in /home/riccardo/anaconda3/lib/python3.8/site-packages (from notebook) (19.0.1)\n",
      "Requirement already satisfied: terminado>=0.8.1 in /home/riccardo/anaconda3/lib/python3.8/site-packages (from notebook) (0.8.3)\n",
      "Requirement already satisfied: ipykernel in /home/riccardo/anaconda3/lib/python3.8/site-packages (from notebook) (5.3.2)\n",
      "Requirement already satisfied: Send2Trash in /home/riccardo/anaconda3/lib/python3.8/site-packages (from notebook) (1.5.0)\n",
      "Requirement already satisfied: nbconvert in /home/riccardo/anaconda3/lib/python3.8/site-packages (from notebook) (5.6.1)\n",
      "Requirement already satisfied: ipython-genutils in /home/riccardo/anaconda3/lib/python3.8/site-packages (from notebook) (0.2.0)\n",
      "Requirement already satisfied: jupyter-core>=4.6.1 in /home/riccardo/anaconda3/lib/python3.8/site-packages (from notebook) (4.6.3)\n",
      "Requirement already satisfied: tornado>=5.0 in /home/riccardo/anaconda3/lib/python3.8/site-packages (from notebook) (6.0.4)\n",
      "Requirement already satisfied: traitlets>=4.2.1 in /home/riccardo/anaconda3/lib/python3.8/site-packages (from notebook) (4.3.3)\n",
      "Requirement already satisfied: six in /home/riccardo/anaconda3/lib/python3.8/site-packages (from cycler>=0.10->matplotlib) (1.15.0)\n",
      "Requirement already satisfied: MarkupSafe>=0.23 in /home/riccardo/anaconda3/lib/python3.8/site-packages (from jinja2->notebook) (1.1.1)\n",
      "Requirement already satisfied: jsonschema!=2.5.0,>=2.4 in /home/riccardo/anaconda3/lib/python3.8/site-packages (from nbformat->notebook) (3.2.0)\n",
      "Requirement already satisfied: ipython>=5.0.0 in /home/riccardo/anaconda3/lib/python3.8/site-packages (from ipykernel->notebook) (7.16.1)\n",
      "Requirement already satisfied: pygments in /home/riccardo/anaconda3/lib/python3.8/site-packages (from nbconvert->notebook) (2.6.1)\n",
      "Requirement already satisfied: bleach in /home/riccardo/anaconda3/lib/python3.8/site-packages (from nbconvert->notebook) (3.1.5)\n",
      "Requirement already satisfied: pandocfilters>=1.4.1 in /home/riccardo/anaconda3/lib/python3.8/site-packages (from nbconvert->notebook) (1.4.2)\n",
      "Requirement already satisfied: defusedxml in /home/riccardo/anaconda3/lib/python3.8/site-packages (from nbconvert->notebook) (0.6.0)\n",
      "Requirement already satisfied: mistune<2,>=0.8.1 in /home/riccardo/anaconda3/lib/python3.8/site-packages (from nbconvert->notebook) (0.8.4)\n",
      "Requirement already satisfied: testpath in /home/riccardo/anaconda3/lib/python3.8/site-packages (from nbconvert->notebook) (0.4.4)\n",
      "Requirement already satisfied: entrypoints>=0.2.2 in /home/riccardo/anaconda3/lib/python3.8/site-packages (from nbconvert->notebook) (0.3)\n",
      "Requirement already satisfied: decorator in /home/riccardo/anaconda3/lib/python3.8/site-packages (from traitlets>=4.2.1->notebook) (4.4.2)\n",
      "Requirement already satisfied: setuptools in /home/riccardo/anaconda3/lib/python3.8/site-packages (from jsonschema!=2.5.0,>=2.4->nbformat->notebook) (49.2.0.post20200714)\n",
      "Requirement already satisfied: attrs>=17.4.0 in /home/riccardo/anaconda3/lib/python3.8/site-packages (from jsonschema!=2.5.0,>=2.4->nbformat->notebook) (19.3.0)\n",
      "Requirement already satisfied: pyrsistent>=0.14.0 in /home/riccardo/anaconda3/lib/python3.8/site-packages (from jsonschema!=2.5.0,>=2.4->nbformat->notebook) (0.16.0)\n",
      "Requirement already satisfied: pexpect; sys_platform != \"win32\" in /home/riccardo/anaconda3/lib/python3.8/site-packages (from ipython>=5.0.0->ipykernel->notebook) (4.8.0)\n",
      "Requirement already satisfied: prompt-toolkit!=3.0.0,!=3.0.1,<3.1.0,>=2.0.0 in /home/riccardo/anaconda3/lib/python3.8/site-packages (from ipython>=5.0.0->ipykernel->notebook) (3.0.5)\n",
      "Requirement already satisfied: backcall in /home/riccardo/anaconda3/lib/python3.8/site-packages (from ipython>=5.0.0->ipykernel->notebook) (0.2.0)\n",
      "Requirement already satisfied: jedi>=0.10 in /home/riccardo/anaconda3/lib/python3.8/site-packages (from ipython>=5.0.0->ipykernel->notebook) (0.17.1)\n",
      "Requirement already satisfied: pickleshare in /home/riccardo/anaconda3/lib/python3.8/site-packages (from ipython>=5.0.0->ipykernel->notebook) (0.7.5)\n",
      "Requirement already satisfied: webencodings in /home/riccardo/anaconda3/lib/python3.8/site-packages (from bleach->nbconvert->notebook) (0.5.1)\n",
      "Requirement already satisfied: packaging in /home/riccardo/anaconda3/lib/python3.8/site-packages (from bleach->nbconvert->notebook) (20.4)\n",
      "Requirement already satisfied: ptyprocess>=0.5 in /home/riccardo/anaconda3/lib/python3.8/site-packages (from pexpect; sys_platform != \"win32\"->ipython>=5.0.0->ipykernel->notebook) (0.6.0)\n",
      "Requirement already satisfied: wcwidth in /home/riccardo/anaconda3/lib/python3.8/site-packages (from prompt-toolkit!=3.0.0,!=3.0.1,<3.1.0,>=2.0.0->ipython>=5.0.0->ipykernel->notebook) (0.2.5)\n",
      "Requirement already satisfied: parso<0.8.0,>=0.7.0 in /home/riccardo/anaconda3/lib/python3.8/site-packages (from jedi>=0.10->ipython>=5.0.0->ipykernel->notebook) (0.7.0)\n"
     ]
    }
   ],
   "source": [
    "!python3 -m venv minihack\n",
    "!source minihack/bin/activate\n",
    "!pip install nle\n",
    "!pip install minihack\n",
    "!pip install matplotlib notebook"
   ]
  }
 ],
 "metadata": {
  "kernelspec": {
   "display_name": "Python 3 (ipykernel)",
   "language": "python",
   "name": "python3"
  },
  "language_info": {
   "codemirror_mode": {
    "name": "ipython",
    "version": 3
   },
   "file_extension": ".py",
   "mimetype": "text/x-python",
   "name": "python",
   "nbconvert_exporter": "python",
   "pygments_lexer": "ipython3",
   "version": "3.8.3"
  }
 },
 "nbformat": 4,
 "nbformat_minor": 5
}
